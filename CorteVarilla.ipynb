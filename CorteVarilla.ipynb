{
  "nbformat": 4,
  "nbformat_minor": 0,
  "metadata": {
    "colab": {
      "provenance": [],
      "include_colab_link": true
    },
    "kernelspec": {
      "name": "python3",
      "display_name": "Python 3"
    },
    "language_info": {
      "name": "python"
    }
  },
  "cells": [
    {
      "cell_type": "markdown",
      "metadata": {
        "id": "view-in-github",
        "colab_type": "text"
      },
      "source": [
        "<a href=\"https://colab.research.google.com/github/Victor-Tal/Dynamic-Programming---Rod-Cutting/blob/main/CorteVarilla.ipynb\" target=\"_parent\"><img src=\"https://colab.research.google.com/assets/colab-badge.svg\" alt=\"Open In Colab\"/></a>"
      ]
    },
    {
      "cell_type": "code",
      "execution_count": null,
      "metadata": {
        "id": "aoKcFAJDNWJX"
      },
      "outputs": [],
      "source": [
        "'''\n",
        "Autor: Cordero Correa Victor hugo\n",
        "Algoritmo: Calcula el máximo costo que se le puede sacar una varilla\n",
        "que tiene una longitud n y c_n costos.\n",
        "\n",
        "    Returs:\n",
        "        max_c: type(int), será el máximo costo\n",
        "        rec: Array con la descomposicion optima de la varilla\n",
        "'''\n",
        "def cutRod(p, n):\n",
        "    #Generamos los dos arrays\n",
        "    max_c = [0 for x in range(n+1)]\n",
        "    rec = [0 for x in range(n+1)]\n",
        "    max_c[0] = 0\n",
        "\t\n",
        "    for i in range(1, n+1):\n",
        "        max_val = -1\n",
        "        for j in range(i):\n",
        "            #Verificacion de los costos anteriores de nuestro array p\n",
        "            if max_val < p[j] + max_c[i-j-1]:\n",
        "                #Hacemos la eleccion del maximo costo de una manera distinta al cormen\n",
        "                max_val = max(max_val, p[j] + max_c[i-j-1])     \n",
        "                #Se hace la reconstruccion de la soluccion optima\n",
        "                rec[i] = j+1\n",
        "        max_c[i] = max_val\n",
        "    return max_c[n], rec\n"
      ]
    },
    {
      "cell_type": "code",
      "source": [
        "def cutRod_Solution(price,n):\n",
        "    (r,s) = cutRod(price,n)\n",
        "    while n > 0:\n",
        "        print(s[n])\n",
        "        n = n - s[n]\n",
        "        break\n",
        "    return r, s[n]"
      ],
      "metadata": {
        "id": "fqRF0QqlVSBW"
      },
      "execution_count": null,
      "outputs": []
    },
    {
      "cell_type": "code",
      "source": [
        "arr = [1,5,8,9]\n",
        "n = len(arr)\n",
        "(maximo, sol_c) = cutRod_Solution(arr, n)\n",
        "print(\"===Ejemplo visto en clase===\")\n",
        "print(\"Maximo costo:\",maximo)\n",
        "print(\"Longitud del corte:\",sol_c)"
      ],
      "metadata": {
        "id": "kdpThDG-wajQ",
        "colab": {
          "base_uri": "https://localhost:8080/"
        },
        "outputId": "cf9edd4c-cbb8-49fc-b5ec-63d15024c090"
      },
      "execution_count": null,
      "outputs": [
        {
          "output_type": "stream",
          "name": "stdout",
          "text": [
            "2\n",
            "===Ejemplo visto en clase===\n",
            "Maximo costo: 10\n",
            "Longitud del corte: 2\n"
          ]
        }
      ]
    },
    {
      "cell_type": "code",
      "source": [
        "p = [1,5,8,9,10,17,17,20]\n",
        "n = len(p)\n",
        "(maximo, sol_c) = cutRod_Solution(p, n)\n",
        "print(\"===Ejemplo visto en clase===\")\n",
        "print(\"Maximo costo:\",maximo)\n",
        "print(\"Longitud del corte:\",sol_c)"
      ],
      "metadata": {
        "colab": {
          "base_uri": "https://localhost:8080/"
        },
        "id": "eNPreL8anDCc",
        "outputId": "16e4bb9c-0703-4b48-9dd9-604a77b0aa8c"
      },
      "execution_count": null,
      "outputs": [
        {
          "output_type": "stream",
          "name": "stdout",
          "text": [
            "2\n",
            "===Ejemplo visto en clase===\n",
            "Maximo costo: 22\n",
            "Longitud del corte: 6\n"
          ]
        }
      ]
    },
    {
      "cell_type": "code",
      "source": [
        "precios = [1,5,8,9,10,17,17,20,24,30]\n",
        "n = len(precios)\n",
        "(maximo, sol_c) = cutRod_Solution(precios, n)\n",
        "print(\"===Ejemplo visto en clase===\")\n",
        "print(\"Maximo costo:\",maximo)\n",
        "print(\"Longitud del corte:\",sol_c)"
      ],
      "metadata": {
        "colab": {
          "base_uri": "https://localhost:8080/"
        },
        "id": "OTVDunECoDxY",
        "outputId": "a5a71f2b-c6c6-4013-ad8b-e1b86ba5caa1"
      },
      "execution_count": null,
      "outputs": [
        {
          "output_type": "stream",
          "name": "stdout",
          "text": [
            "10\n",
            "===Ejemplo visto en clase===\n",
            "Maximo costo: 30\n",
            "Longitud del corte: 0\n"
          ]
        }
      ]
    },
    {
      "cell_type": "markdown",
      "source": [
        "###Observaciones\n",
        "\n",
        "[1] La reconstruccion no es tan eficiente, en el ejemplo 2 se necesitan dos cortes (2 y 6) para sacar el maximo costo, pero solo retorna alguno de ellos. La implementacion de esta reconstruccion si quedó clara, pero no me arroja lo esperado\n",
        "\n",
        "[2] La implementacion del Cormen te manda a un bucle infinito y de igual manera, implementandolo su pseudocodigo en vez de generar un array de los cortes optimos te manda solo un valor(en este caso el corte mas eficiente)"
      ],
      "metadata": {
        "id": "1bfUL1JfrWG2"
      }
    }
  ]
}